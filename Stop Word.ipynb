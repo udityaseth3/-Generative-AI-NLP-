{
 "cells": [
  {
   "cell_type": "code",
   "execution_count": null,
   "id": "f64e34a9-3672-4eab-9fec-f8a46b110f13",
   "metadata": {},
   "outputs": [],
   "source": [
    "# there are 150 stop words already defined in jupyter notebook"
   ]
  },
  {
   "cell_type": "code",
   "execution_count": 2,
   "id": "add52f5e-4d7e-4155-b06a-2158438a334c",
   "metadata": {},
   "outputs": [],
   "source": [
    "import spacy\n",
    "nlp = spacy.load('en_core_web_sm')"
   ]
  },
  {
   "cell_type": "code",
   "execution_count": 6,
   "id": "0c08820b-bf80-415f-8b94-3490a4df987e",
   "metadata": {},
   "outputs": [
    {
     "name": "stdout",
     "output_type": "stream",
     "text": [
      "{\"n't\", 'once', '‘re', '‘d', 'therein', 'per', 'with', 'beside', 'top', 'hereby', 'others', 'through', 'from', 'whole', 'everyone', 'nowhere', 'fifteen', 'each', 'meanwhile', 'before', 'anything', 'herself', \"'ve\", 'cannot', 'ourselves', 'since', 'five', 'about', 'being', 'when', 'together', 'then', 'ten', 'into', 'hereafter', 'thence', 'is', 'also', 'against', 'back', 'i', 'further', 'becoming', '’s', 'out', 'under', 'six', 'always', 'as', 'wherever', 'yours', 'regarding', 'someone', 'did', 'those', 'had', 'bottom', 'his', 'still', 'either', 'whatever', 'amongst', 'indeed', 'none', 'hence', 'be', 'across', 'whence', 'hereupon', 'become', 'twelve', 'am', 'its', 'formerly', 'former', 'due', 'anyone', 'many', 'toward', 'n‘t', 'again', 'via', 'but', 'may', 'get', 'move', 'both', 'until', 'during', 'third', 'some', 'than', 'last', 'which', 'all', 'above', 'been', 'three', 'although', 'whose', 'whoever', 'because', 'itself', 'we', 'therefore', 'fifty', 'a', 'latterly', '’m', 'just', 'almost', 'thru', 'keep', 'my', 'yet', 'after', 'see', 'hundred', 'upon', 'moreover', 'twenty', 'though', 'enough', 'much', 're', 'show', 'own', 'thereafter', 'any', 'their', 'himself', 'not', 'hers', 'down', 'eleven', \"'m\", 'within', 'side', '’re', 'n’t', 'without', 'seeming', 'below', 'towards', 'if', 'else', 'our', 'ever', 'often', 'along', 'nevertheless', 'another', 'wherein', 'give', \"'s\", 'herein', 'of', 'however', 'on', 'off', 'less', '‘s', 'very', 'you', 'how', 'it', 'no', 'first', 'should', 'forty', '’ll', 'something', 'onto', 'me', 'and', 'perhaps', 'beyond', 'among', 'yourself', 'ours', 'really', 'there', 'whither', 'thus', 'over', 'ca', 'must', 'between', 'otherwise', 'thereupon', 'neither', 'whenever', 'by', 'was', 'only', 'front', 'for', 'became', 'four', 'whereafter', 'such', 'go', 'would', 'made', 'take', 'put', 'well', '’ve', 'used', 'were', 'part', 'him', 'do', 'that', 'next', 'nothing', 'to', 'somewhere', 'sometime', 'unless', '‘ve', 'everywhere', 'latter', 'here', 'the', 'afterwards', 'two', 'more', 'myself', 'mine', 'while', 'an', 'most', 'elsewhere', '’d', 'at', '‘ll', 'can', 'themselves', 'who', 'becomes', 'done', 'mostly', 'every', 'whom', 'namely', 'besides', 'empty', 'please', 'your', 'where', 'around', 'are', 'name', 'even', 'anywhere', 'quite', 'this', 'eight', 'seem', 'what', 'behind', 'so', 'seemed', 'call', 'these', 'least', 'now', 'say', 'beforehand', 'other', 'whereupon', \"'re\", 'might', 'throughout', 'they', 'yourselves', 'except', 'full', 'nor', '‘m', 'make', 'her', 'she', 'too', 'in', 'nine', \"'ll\", 'whether', 'one', 'thereby', 'rather', 'sometimes', 'several', 'will', 'somehow', 'anyway', 'nobody', 'whereby', 'everything', 'them', 'sixty', 'serious', 'same', 'could', 'doing', 'few', 'alone', 'have', 'has', 'whereas', 'noone', 'amount', 'he', 'never', 'us', 'already', 'up', 'why', 'using', 'anyhow', 'does', \"'d\", 'seems', 'or', 'various'}\n"
     ]
    }
   ],
   "source": [
    "print(nlp.Defaults.stop_words)"
   ]
  },
  {
   "cell_type": "code",
   "execution_count": 5,
   "id": "305c96cb-20bc-4d6f-8f9a-a07b6677d0da",
   "metadata": {},
   "outputs": [
    {
     "data": {
      "text/plain": [
       "326"
      ]
     },
     "execution_count": 5,
     "metadata": {},
     "output_type": "execute_result"
    }
   ],
   "source": [
    "len(nlp.Defaults.stop_words)"
   ]
  },
  {
   "cell_type": "code",
   "execution_count": 8,
   "id": "2718ab0d-9b0d-41ee-97a6-accd134dd3ec",
   "metadata": {},
   "outputs": [
    {
     "data": {
      "text/plain": [
       "True"
      ]
     },
     "execution_count": 8,
     "metadata": {},
     "output_type": "execute_result"
    }
   ],
   "source": [
    "# to see the word in stop word\n",
    "nlp.vocab['myself'].is_stop"
   ]
  },
  {
   "cell_type": "code",
   "execution_count": 9,
   "id": "d0bb8a29-38c2-4cdc-9157-373d25609a7e",
   "metadata": {},
   "outputs": [
    {
     "data": {
      "text/plain": [
       "False"
      ]
     },
     "execution_count": 9,
     "metadata": {},
     "output_type": "execute_result"
    }
   ],
   "source": [
    "nlp.vocab['mystery'].is_stop"
   ]
  },
  {
   "cell_type": "code",
   "execution_count": 11,
   "id": "ddc315c0-21e0-4420-8c24-381d6ab28e37",
   "metadata": {},
   "outputs": [],
   "source": [
    "# how to add stop word\n",
    "nlp.Defaults.stop_words.add('btw')\n",
    "\n",
    "# Set the stop_words tag on the lexeme\n",
    "nlp.vocab['btw'].is_stop = True"
   ]
  },
  {
   "cell_type": "code",
   "execution_count": 12,
   "id": "0f396636-954e-425b-8d29-1570e6a256f6",
   "metadata": {},
   "outputs": [
    {
     "data": {
      "text/plain": [
       "327"
      ]
     },
     "execution_count": 12,
     "metadata": {},
     "output_type": "execute_result"
    }
   ],
   "source": [
    "len(nlp.Dfaults.stop_words)"
   ]
  },
  {
   "cell_type": "code",
   "execution_count": 14,
   "id": "237cb4a4-d39b-43b9-9482-f44d0e37b726",
   "metadata": {},
   "outputs": [],
   "source": [
    "# to remove a stop word\n",
    "nlp.Defaults.stop_words.remove('beyond')\n",
    "\n",
    "# remove the stop_word tag from the lexeme\n",
    "nlp.vocab['beyond'].is_stop = False"
   ]
  },
  {
   "cell_type": "code",
   "execution_count": 16,
   "id": "74b1b8b3-4a7e-45aa-90c8-9847cfef9991",
   "metadata": {},
   "outputs": [
    {
     "data": {
      "text/plain": [
       "326"
      ]
     },
     "execution_count": 16,
     "metadata": {},
     "output_type": "execute_result"
    }
   ],
   "source": [
    "len(nlp.Defaults.stop_words)"
   ]
  },
  {
   "cell_type": "code",
   "execution_count": null,
   "id": "6d6ffe48-1f58-4a50-bc1d-24b1e7bdf460",
   "metadata": {},
   "outputs": [],
   "source": [
    "#     "
   ]
  },
  {
   "cell_type": "code",
   "execution_count": null,
   "id": "a77b0984-4a4b-4f10-8247-42ada4aacac7",
   "metadata": {},
   "outputs": [],
   "source": [
    "doc = nlp(u'The"
   ]
  }
 ],
 "metadata": {
  "kernelspec": {
   "display_name": "Python 3 (ipykernel)",
   "language": "python",
   "name": "python3"
  },
  "language_info": {
   "codemirror_mode": {
    "name": "ipython",
    "version": 3
   },
   "file_extension": ".py",
   "mimetype": "text/x-python",
   "name": "python",
   "nbconvert_exporter": "python",
   "pygments_lexer": "ipython3",
   "version": "3.11.7"
  }
 },
 "nbformat": 4,
 "nbformat_minor": 5
}
