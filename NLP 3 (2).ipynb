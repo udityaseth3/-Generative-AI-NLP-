{
 "cells": [
  {
   "cell_type": "code",
   "execution_count": null,
   "id": "4460fa28-d320-42d8-a5bc-25e5436c1ef4",
   "metadata": {},
   "outputs": [],
   "source": [
    "# 1. Create a Doc object from the file peterrabbit.txt"
   ]
  },
  {
   "cell_type": "code",
   "execution_count": 8,
   "id": "355815c7-3180-40a5-b54f-2cb25d978834",
   "metadata": {},
   "outputs": [],
   "source": [
    "import spacy\n",
    "\n",
    "# Load the English language model\n",
    "nlp = spacy.load(\"en_core_web_sm\")\n",
    "\n",
    "# Read the content of the file\n",
    "with open(\"peterrabbit.txt\", \"r\", encoding=\"utf-8\") as f:\n",
    "    text = f.read()\n",
    "\n",
    "# Create the Doc object\n",
    "doc = nlp(text)\n"
   ]
  },
  {
   "cell_type": "code",
   "execution_count": null,
   "id": "726206bd-f072-4350-a1c3-1eceda9abdba",
   "metadata": {},
   "outputs": [],
   "source": [
    "#2. For every token in the third sentence, print the token text, the POS tag, the fine-grained TAG tag, and the description of the fine-grained tag.\n"
   ]
  },
  {
   "cell_type": "code",
   "execution_count": 11,
   "id": "0a3ac7a2-0eb8-4474-8cb4-8cf33c6809b0",
   "metadata": {},
   "outputs": [
    {
     "name": "stdout",
     "output_type": "stream",
     "text": [
      "Third sentence:\n",
      " They lived with their Mother in a sand-bank, underneath the root of a\n",
      "very big fir-tree.\n",
      "\n",
      " \n",
      "\n"
     ]
    }
   ],
   "source": [
    "sentences = list(doc.sents)\n",
    "third_sentence = sentences[2]\n",
    "\n",
    "print(\"Third sentence:\\n\", third_sentence.text, \"\\n\")\n",
    "\n"
   ]
  },
  {
   "cell_type": "code",
   "execution_count": 14,
   "id": "9ba43a99-fe06-487c-ada4-5f53709c3338",
   "metadata": {},
   "outputs": [
    {
     "name": "stdout",
     "output_type": "stream",
     "text": [
      "Token           POS        TAG        Description\n",
      "============================================================\n",
      "They            PRON       PRP        pronoun, personal\n",
      "lived           VERB       VBD        verb, past tense\n",
      "with            ADP        IN         conjunction, subordinating or preposition\n",
      "their           PRON       PRP$       pronoun, possessive\n",
      "Mother          PROPN      NNP        noun, proper singular\n",
      "in              ADP        IN         conjunction, subordinating or preposition\n",
      "a               DET        DT         determiner\n",
      "sand            NOUN       NN         noun, singular or mass\n",
      "-               PUNCT      HYPH       punctuation mark, hyphen\n",
      "bank            NOUN       NN         noun, singular or mass\n",
      ",               PUNCT      ,          punctuation mark, comma\n",
      "underneath      ADP        IN         conjunction, subordinating or preposition\n",
      "the             DET        DT         determiner\n",
      "root            NOUN       NN         noun, singular or mass\n",
      "of              ADP        IN         conjunction, subordinating or preposition\n",
      "a               DET        DT         determiner\n",
      "\n",
      "               SPACE      _SP        whitespace\n",
      "very            ADV        RB         adverb\n",
      "big             ADJ        JJ         adjective (English), other noun-modifier (Chinese)\n",
      "fir             NOUN       NN         noun, singular or mass\n",
      "-               PUNCT      HYPH       punctuation mark, hyphen\n",
      "tree            NOUN       NN         noun, singular or mass\n",
      ".               PUNCT      .          punctuation mark, sentence closer\n",
      "\n",
      "\n",
      "              SPACE      _SP        whitespace\n"
     ]
    }
   ],
   "source": [
    "#Print token info\n",
    "print(f\"{'Token':<15} {'POS':<10} {'TAG':<10} Description\")\n",
    "print(\"=\" * 60)\n",
    "for token in third_sentence:\n",
    "    print(f\"{token.text:<15} {token.pos_:<10} {token.tag_:<10} {spacy.explain(token.tag_)}\")"
   ]
  },
  {
   "cell_type": "code",
   "execution_count": null,
   "id": "098cff2d-be27-4098-bd0e-deee61af8e51",
   "metadata": {},
   "outputs": [],
   "source": [
    "#3. Provide a frequency list of POS tags from the entire document\n"
   ]
  },
  {
   "cell_type": "code",
   "execution_count": null,
   "id": "dedc3e70-a959-4813-80b7-5a8b874cf454",
   "metadata": {},
   "outputs": [],
   "source": [
    "from collections import Counter\n",
    "# Count POS tags\n",
    "pos_counts = Counter(token.pos_ for token in doc if not token.is_space)\n",
    "\n",
    "# Print POS tag frequencies\n",
    "print(f\"{'POS Tag':<10} Frequency\")\n",
    "print(\"=\" * 25)\n",
    "for pos, freq in pos_counts.most_common():\n",
    "    print(f\"{pos:<10} {freq}\")"
   ]
  },
  {
   "cell_type": "code",
   "execution_count": null,
   "id": "aa2cfcb5-6181-4755-b769-2a5dd7cd686f",
   "metadata": {},
   "outputs": [],
   "source": [
    "#4. CHALLENGE: What percentage of tokens are nouns?\n",
    "\n"
   ]
  },
  {
   "cell_type": "code",
   "execution_count": 16,
   "id": "7c932ae8-2ce3-42be-a600-be1f8df8b74a",
   "metadata": {},
   "outputs": [
    {
     "name": "stdout",
     "output_type": "stream",
     "text": [
      "Percentage of tokens that are NOUNS: 17.46%\n"
     ]
    }
   ],
   "source": [
    "# Count total tokens (excluding spaces and punctuations)\n",
    "tokens = [token for token in doc if not token.is_space and not token.is_punct]\n",
    "total_tokens = len(tokens)\n",
    "\n",
    "# Count nouns\n",
    "noun_tokens = sum(1 for token in tokens if token.pos_ == \"NOUN\")\n",
    "\n",
    "# Calculate percentage\n",
    "noun_percentage = (noun_tokens / total_tokens) * 100\n",
    "\n",
    "print(f\"Percentage of tokens that are NOUNS: {noun_percentage:.2f}%\")"
   ]
  },
  {
   "cell_type": "code",
   "execution_count": null,
   "id": "f7472049-55e8-4b9c-a3f9-1908b6f25c9f",
   "metadata": {},
   "outputs": [],
   "source": [
    "#5. Display the Dependency Parse for the third sentence."
   ]
  },
  {
   "cell_type": "code",
   "execution_count": 17,
   "id": "bd9c57c4-7a87-4c19-82f2-8bef972002b9",
   "metadata": {
    "scrolled": true
   },
   "outputs": [
    {
     "name": "stdout",
     "output_type": "stream",
     "text": [
      "Third sentence:\n",
      "They lived with their Mother in a sand-bank, underneath the root of a\n",
      "very big fir-tree.\n",
      "\n",
      "\n",
      "\n",
      "Token           Dep             Head           \n",
      "=============================================\n",
      "They            nsubj           lived          \n",
      "lived           ROOT            lived          \n",
      "with            prep            lived          \n",
      "their           poss            Mother         \n",
      "Mother          pobj            with           \n",
      "in              prep            lived          \n",
      "a               det             bank           \n",
      "sand            compound        bank           \n",
      "-               punct           bank           \n",
      "bank            pobj            in             \n",
      ",               punct           bank           \n",
      "underneath      prep            bank           \n",
      "the             det             root           \n",
      "root            pobj            underneath     \n",
      "of              prep            root           \n",
      "a               det             tree           \n",
      "\n",
      "               dep             a              \n",
      "very            advmod          big            \n",
      "big             amod            tree           \n",
      "fir             compound        tree           \n",
      "-               punct           tree           \n",
      "tree            pobj            of             \n",
      ".               punct           lived          \n",
      "\n",
      "\n",
      "              dep             .              \n"
     ]
    }
   ],
   "source": [
    "# Get the third sentence\n",
    "third_sentence = list(doc.sents)[2]\n",
    "\n",
    "# Print dependency relations\n",
    "print(f\"Third sentence:\\n{third_sentence.text}\\n\")\n",
    "print(f\"{'Token':<15} {'Dep':<15} {'Head':<15}\")\n",
    "print(\"=\" * 45)\n",
    "for token in third_sentence:\n",
    "    print(f\"{token.text:<15} {token.dep_:<15} {token.head.text:<15}\")"
   ]
  },
  {
   "cell_type": "code",
   "execution_count": null,
   "id": "6d1ed6da-2a2f-48e1-88dd-cd5507925a39",
   "metadata": {},
   "outputs": [],
   "source": [
    "#6. Show the first two named entities from Beatrix Potter's The Tale of Peter Rabbit"
   ]
  },
  {
   "cell_type": "code",
   "execution_count": 18,
   "id": "3bdd7a3a-7ec6-401b-ae00-1afd7acbeb5d",
   "metadata": {},
   "outputs": [
    {
     "name": "stdout",
     "output_type": "stream",
     "text": [
      "Entity                    Label      Description\n",
      "==================================================\n",
      "The Tale of Peter Rabbit  WORK_OF_ART Titles of books, songs, etc.\n",
      "Beatrix Potter            PERSON     People, including fictional\n"
     ]
    }
   ],
   "source": [
    "# Extract first two named entities\n",
    "first_two_ents = list(doc.ents)[:2]\n",
    "\n",
    "# Display them\n",
    "print(f\"{'Entity':<25} {'Label':<10} {'Description'}\")\n",
    "print(\"=\" * 50)\n",
    "for ent in first_two_ents:\n",
    "    print(f\"{ent.text:<25} {ent.label_:<10} {spacy.explain(ent.label_)}\")"
   ]
  },
  {
   "cell_type": "code",
   "execution_count": null,
   "id": "1e5f09fa-06e8-42d2-849b-483598a16a50",
   "metadata": {},
   "outputs": [],
   "source": [
    "#7. How many sentences are contained in The Tale of Peter Rabbit? "
   ]
  },
  {
   "cell_type": "code",
   "execution_count": 19,
   "id": "c941b70a-5208-48b2-9750-c1ed3e33fa2d",
   "metadata": {},
   "outputs": [
    {
     "name": "stdout",
     "output_type": "stream",
     "text": [
      "Total number of sentences: 57\n"
     ]
    }
   ],
   "source": [
    "# Count sentences\n",
    "sentences = list(doc.sents)\n",
    "print(f\"Total number of sentences: {len(sentences)}\")"
   ]
  },
  {
   "cell_type": "code",
   "execution_count": null,
   "id": "eacb33be-ff80-4304-9b65-6befd3f28838",
   "metadata": {},
   "outputs": [],
   "source": [
    "#8. CHALLENGE: How many sentences contain named entities?\n"
   ]
  },
  {
   "cell_type": "code",
   "execution_count": 20,
   "id": "85e10c2a-30c3-4d45-966c-fb16b97af6e1",
   "metadata": {},
   "outputs": [
    {
     "name": "stdout",
     "output_type": "stream",
     "text": [
      "Total number of sentences: 57\n",
      "Sentences containing named entities: 38\n"
     ]
    }
   ],
   "source": [
    "# Break into sentences\n",
    "sentences = list(doc.sents)\n",
    "\n",
    "# Count sentences containing at least one named entity\n",
    "sentences_with_entities = sum(\n",
    "    1 for sent in sentences if any(ent.start >= sent.start and ent.end <= sent.end for ent in doc.ents)\n",
    ")\n",
    "\n",
    "print(f\"Total number of sentences: {len(sentences)}\")\n",
    "print(f\"Sentences containing named entities: {sentences_with_entities}\")"
   ]
  },
  {
   "cell_type": "code",
   "execution_count": null,
   "id": "20beb0a9-206a-467f-a460-0598a5c8f6d4",
   "metadata": {},
   "outputs": [],
   "source": [
    "#9. Display the named entity visualization for list_of_sents[0] from the previous problem"
   ]
  },
  {
   "cell_type": "code",
   "execution_count": null,
   "id": "541a2e89-3c70-49a2-8c3e-dd2d48c6a8de",
   "metadata": {},
   "outputs": [
    {
     "name": "stderr",
     "output_type": "stream",
     "text": [
      "D:\\ANACONDA\\Lib\\site-packages\\spacy\\displacy\\__init__.py:106: UserWarning: [W011] It looks like you're calling displacy.serve from within a Jupyter notebook or a similar environment. This likely means you're already running a local web server, so there's no need to make displaCy start another one. Instead, you should be able to replace displacy.serve with displacy.render to show the visualization.\n",
      "  warnings.warn(Warnings.W011)\n"
     ]
    },
    {
     "data": {
      "text/html": [
       "<span class=\"tex2jax_ignore\"><!DOCTYPE html>\n",
       "<html lang=\"en\">\n",
       "    <head>\n",
       "        <title>displaCy</title>\n",
       "    </head>\n",
       "\n",
       "    <body style=\"font-size: 16px; font-family: -apple-system, BlinkMacSystemFont, 'Segoe UI', Helvetica, Arial, sans-serif, 'Apple Color Emoji', 'Segoe UI Emoji', 'Segoe UI Symbol'; padding: 4rem 2rem; direction: ltr\">\n",
       "<figure style=\"margin-bottom: 6rem\">\n",
       "<div class=\"entities\" style=\"line-height: 2.5; direction: ltr\">\n",
       "<mark class=\"entity\" style=\"background: #f0d0ff; padding: 0.45em 0.6em; margin: 0 0.25em; line-height: 1; border-radius: 0.35em;\">\n",
       "    The Tale of Peter Rabbit\n",
       "    <span style=\"font-size: 0.8em; font-weight: bold; line-height: 1; border-radius: 0.35em; vertical-align: middle; margin-left: 0.5rem\">WORK_OF_ART</span>\n",
       "</mark>\n",
       ", by \n",
       "<mark class=\"entity\" style=\"background: #aa9cfc; padding: 0.45em 0.6em; margin: 0 0.25em; line-height: 1; border-radius: 0.35em;\">\n",
       "    Beatrix Potter\n",
       "    <span style=\"font-size: 0.8em; font-weight: bold; line-height: 1; border-radius: 0.35em; vertical-align: middle; margin-left: 0.5rem\">PERSON</span>\n",
       "</mark>\n",
       " (\n",
       "<mark class=\"entity\" style=\"background: #bfe1d9; padding: 0.45em 0.6em; margin: 0 0.25em; line-height: 1; border-radius: 0.35em;\">\n",
       "    1902\n",
       "    <span style=\"font-size: 0.8em; font-weight: bold; line-height: 1; border-radius: 0.35em; vertical-align: middle; margin-left: 0.5rem\">DATE</span>\n",
       "</mark>\n",
       ").<br><br></div>\n",
       "</figure>\n",
       "</body>\n",
       "</html></span>"
      ],
      "text/plain": [
       "<IPython.core.display.HTML object>"
      ]
     },
     "metadata": {},
     "output_type": "display_data"
    },
    {
     "name": "stdout",
     "output_type": "stream",
     "text": [
      "\n",
      "Using the 'ent' visualizer\n",
      "Serving on http://0.0.0.0:5000 ...\n",
      "\n"
     ]
    }
   ],
   "source": [
    "from spacy import displacy\n",
    "# Get all sentences\n",
    "sentences = list(doc.sents)\n",
    "\n",
    "# Process first sentence separately\n",
    "first_sentence_doc = nlp(sentences[0].text)\n",
    "\n",
    "# Visualize named entities in Jupyter or browser\n",
    "displacy.serve(first_sentence_doc, style=\"ent\")"
   ]
  }
 ],
 "metadata": {
  "kernelspec": {
   "display_name": "Python 3 (ipykernel)",
   "language": "python",
   "name": "python3"
  },
  "language_info": {
   "codemirror_mode": {
    "name": "ipython",
    "version": 3
   },
   "file_extension": ".py",
   "mimetype": "text/x-python",
   "name": "python",
   "nbconvert_exporter": "python",
   "pygments_lexer": "ipython3",
   "version": "3.11.7"
  }
 },
 "nbformat": 4,
 "nbformat_minor": 5
}
