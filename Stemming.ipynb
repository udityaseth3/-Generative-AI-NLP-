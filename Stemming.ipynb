{
 "cells": [
  {
   "cell_type": "code",
   "execution_count": null,
   "id": "95deaf31-1ede-4b3d-be57-bf3c3aedae8b",
   "metadata": {},
   "outputs": [],
   "source": [
    "# Stemming is use to find the root word"
   ]
  },
  {
   "cell_type": "code",
   "execution_count": 12,
   "id": "17c32152-38c8-4791-9231-4df85a287b0f",
   "metadata": {},
   "outputs": [
    {
     "name": "stdout",
     "output_type": "stream",
     "text": [
      "Requirement already satisfied: nltk in d:\\anaconda\\lib\\site-packages (3.8.1)\n",
      "Requirement already satisfied: click in d:\\anaconda\\lib\\site-packages (from nltk) (8.1.7)\n",
      "Requirement already satisfied: joblib in d:\\anaconda\\lib\\site-packages (from nltk) (1.2.0)\n",
      "Requirement already satisfied: regex>=2021.8.3 in d:\\anaconda\\lib\\site-packages (from nltk) (2023.10.3)\n",
      "Requirement already satisfied: tqdm in d:\\anaconda\\lib\\site-packages (from nltk) (4.65.0)\n",
      "Requirement already satisfied: colorama in d:\\anaconda\\lib\\site-packages (from click->nltk) (0.4.6)\n"
     ]
    }
   ],
   "source": [
    "!pip install nltk"
   ]
  },
  {
   "cell_type": "code",
   "execution_count": 8,
   "id": "057f6968-a537-430c-85d9-b7eb32ca1897",
   "metadata": {},
   "outputs": [],
   "source": [
    "import nltk\n",
    "from nltk.stem.porter import PorterStemmer"
   ]
  },
  {
   "cell_type": "code",
   "execution_count": 9,
   "id": "5c078f2d-39e0-4f78-90fe-080701b168c9",
   "metadata": {},
   "outputs": [],
   "source": [
    "p_stemmer = PorterStemmer()"
   ]
  },
  {
   "cell_type": "code",
   "execution_count": 10,
   "id": "2e4b1cba-5227-4c7a-9806-10dbe54be9bd",
   "metadata": {},
   "outputs": [],
   "source": [
    "words = ['run','runner','running','ran','runs','easily','fairly']\n"
   ]
  },
  {
   "cell_type": "code",
   "execution_count": 18,
   "id": "3f565928-a0da-4dc7-b858-b62f592420e9",
   "metadata": {},
   "outputs": [
    {
     "name": "stdout",
     "output_type": "stream",
     "text": [
      "run --> run\n",
      "runner --> runner\n",
      "running --> run\n",
      "ran --> ran\n",
      "runs --> run\n",
      "easily --> easili\n",
      "fairly --> fairli\n"
     ]
    }
   ],
   "source": [
    "for word in words:\n",
    "    print(word+' --> '+p_stemmer.stem(word))"
   ]
  },
  {
   "cell_type": "code",
   "execution_count": 11,
   "id": "280291b1-6e75-405d-9f13-0a6bea2eee98",
   "metadata": {},
   "outputs": [],
   "source": [
    "# snow ball stemmer\n",
    "#it is called poter to stemmer\n",
    "from nltk.stem.snowball import SnowballStemmer\n",
    "# snowball require  that u have ton pass parameterss\n",
    "s_stemmer=SnowballStemmer(language='english')"
   ]
  },
  {
   "cell_type": "code",
   "execution_count": 12,
   "id": "5a0f50ec-a31d-40e3-b335-967e75847b7f",
   "metadata": {},
   "outputs": [
    {
     "name": "stdout",
     "output_type": "stream",
     "text": [
      "run --> run\n",
      "runner --> runner\n",
      "running --> run\n",
      "ran --> ran\n",
      "runs --> run\n",
      "easily --> easili\n",
      "fairly --> fair\n"
     ]
    }
   ],
   "source": [
    "words = ['run','runner','running','ran','runs','easily','fairly']\n",
    "for word in words:\n",
    "     print(word+' --> '+s_stemmer.stem(word))"
   ]
  },
  {
   "cell_type": "code",
   "execution_count": 13,
   "id": "c6fdb8b0-1b9b-4d57-8656-214183bccc70",
   "metadata": {},
   "outputs": [
    {
     "name": "stdout",
     "output_type": "stream",
     "text": [
      "generous --> generous\n",
      "generation --> generat\n",
      "generously --> generous\n",
      "generate --> generat\n"
     ]
    }
   ],
   "source": [
    "words = ['generous','generation','generously','generate']\n",
    "for word in words:\n",
    "     print(word+' --> '+s_stemmer.stem(word))"
   ]
  },
  {
   "cell_type": "code",
   "execution_count": 14,
   "id": "9f2e341a-07f0-4b63-86cb-c0ae18442316",
   "metadata": {},
   "outputs": [],
   "source": [
    "word = ['consolingly']"
   ]
  },
  {
   "cell_type": "code",
   "execution_count": 15,
   "id": "f4ef32cf-b289-4e21-810a-9e4bd512a054",
   "metadata": {},
   "outputs": [
    {
     "name": "stdout",
     "output_type": "stream",
     "text": [
      "Porter Stemmer:\n",
      "consolingly-->consolingli\n"
     ]
    }
   ],
   "source": [
    "word = ['consolingly']\n",
    "print('Porter Stemmer:')\n",
    "for word in word:\n",
    "    print(word+'-->'+p_stemmer.stem(word))"
   ]
  },
  {
   "cell_type": "code",
   "execution_count": 16,
   "id": "8d371b19-1be2-403a-8ac9-8457ddfa0c7b",
   "metadata": {},
   "outputs": [
    {
     "name": "stdout",
     "output_type": "stream",
     "text": [
      "Snowball Stemmer\n",
      "generous -->generous\n",
      "generation -->generat\n",
      "generously -->generous\n",
      "generate -->generat\n"
     ]
    }
   ],
   "source": [
    "print('Snowball Stemmer')\n",
    "for word in words:\n",
    "    print(word+' -->'+s_stemmer.stem(word))"
   ]
  },
  {
   "cell_type": "code",
   "execution_count": 17,
   "id": "145dcbf6-4c25-4d4d-ba41-4c0090f1cd4f",
   "metadata": {},
   "outputs": [
    {
     "name": "stdout",
     "output_type": "stream",
     "text": [
      "I -->i\n",
      "am -->am\n",
      "meeting -->meet\n",
      "him -->him\n",
      "tomorrow -->tomorrow\n",
      "at -->at\n",
      "the -->the\n",
      "meeting -->meet\n"
     ]
    }
   ],
   "source": [
    "phase = 'I am meeting him tomorrow at  the meeting'\n",
    "for word  in phase.split():\n",
    "       print(word+' -->'+s_stemmer.stem(word))"
   ]
  }
 ],
 "metadata": {
  "kernelspec": {
   "display_name": "Python 3 (ipykernel)",
   "language": "python",
   "name": "python3"
  },
  "language_info": {
   "codemirror_mode": {
    "name": "ipython",
    "version": 3
   },
   "file_extension": ".py",
   "mimetype": "text/x-python",
   "name": "python",
   "nbconvert_exporter": "python",
   "pygments_lexer": "ipython3",
   "version": "3.11.7"
  }
 },
 "nbformat": 4,
 "nbformat_minor": 5
}
