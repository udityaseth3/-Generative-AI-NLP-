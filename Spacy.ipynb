{
 "cells": [
  {
   "cell_type": "code",
   "execution_count": 11,
   "id": "6967ed57-b3b4-484c-83dc-0d3364a65c08",
   "metadata": {},
   "outputs": [],
   "source": [
    "import spacy"
   ]
  },
  {
   "cell_type": "code",
   "execution_count": 15,
   "id": "3963c9c0-d316-489a-a7ef-71e6224a555a",
   "metadata": {},
   "outputs": [
    {
     "name": "stdout",
     "output_type": "stream",
     "text": [
      "Collecting en-core-web-sm==3.8.0\n",
      "  Downloading https://github.com/explosion/spacy-models/releases/download/en_core_web_sm-3.8.0/en_core_web_sm-3.8.0-py3-none-any.whl (12.8 MB)\n",
      "     ---------------------------------------- 0.0/12.8 MB ? eta -:--:--\n",
      "     ---------------------------------------- 0.1/12.8 MB 3.3 MB/s eta 0:00:04\n",
      "     ---------------------------------------- 0.1/12.8 MB 3.3 MB/s eta 0:00:04\n",
      "     ---------------------------------------- 0.1/12.8 MB 3.3 MB/s eta 0:00:04\n",
      "      -------------------------------------- 0.2/12.8 MB 980.4 kB/s eta 0:00:13\n",
      "      -------------------------------------- 0.2/12.8 MB 888.4 kB/s eta 0:00:15\n",
      "      -------------------------------------- 0.2/12.8 MB 888.4 kB/s eta 0:00:15\n",
      "      -------------------------------------- 0.3/12.8 MB 930.9 kB/s eta 0:00:14\n",
      "      -------------------------------------- 0.3/12.8 MB 930.9 kB/s eta 0:00:14\n",
      "      -------------------------------------- 0.3/12.8 MB 930.9 kB/s eta 0:00:14\n",
      "      -------------------------------------- 0.3/12.8 MB 930.9 kB/s eta 0:00:14\n",
      "      -------------------------------------- 0.3/12.8 MB 634.9 kB/s eta 0:00:20\n",
      "     - ------------------------------------- 0.4/12.8 MB 636.5 kB/s eta 0:00:20\n",
      "     - ------------------------------------- 0.4/12.8 MB 671.5 kB/s eta 0:00:19\n",
      "     - ------------------------------------- 0.5/12.8 MB 796.1 kB/s eta 0:00:16\n",
      "     - ------------------------------------- 0.6/12.8 MB 929.5 kB/s eta 0:00:14\n",
      "     -- ------------------------------------ 0.7/12.8 MB 940.0 kB/s eta 0:00:13\n",
      "     -- ------------------------------------ 0.7/12.8 MB 940.0 kB/s eta 0:00:13\n",
      "     -- ------------------------------------ 0.8/12.8 MB 885.7 kB/s eta 0:00:14\n",
      "     -- ------------------------------------ 0.8/12.8 MB 959.6 kB/s eta 0:00:13\n",
      "     --- ------------------------------------ 1.0/12.8 MB 1.0 MB/s eta 0:00:12\n",
      "     --- ------------------------------------ 1.1/12.8 MB 1.1 MB/s eta 0:00:11\n",
      "     --- ------------------------------------ 1.2/12.8 MB 1.1 MB/s eta 0:00:11\n",
      "     --- ------------------------------------ 1.3/12.8 MB 1.2 MB/s eta 0:00:10\n",
      "     ---- ----------------------------------- 1.4/12.8 MB 1.2 MB/s eta 0:00:10\n",
      "     ---- ----------------------------------- 1.4/12.8 MB 1.2 MB/s eta 0:00:10\n",
      "     ---- ----------------------------------- 1.4/12.8 MB 1.2 MB/s eta 0:00:10\n",
      "     ---- ----------------------------------- 1.4/12.8 MB 1.2 MB/s eta 0:00:10\n",
      "     ---- ----------------------------------- 1.4/12.8 MB 1.2 MB/s eta 0:00:10\n",
      "     ---- ----------------------------------- 1.4/12.8 MB 1.2 MB/s eta 0:00:10\n",
      "     ---- ----------------------------------- 1.4/12.8 MB 1.2 MB/s eta 0:00:10\n",
      "     ---- ----------------------------------- 1.5/12.8 MB 1.1 MB/s eta 0:00:11\n",
      "     ---- ----------------------------------- 1.6/12.8 MB 1.1 MB/s eta 0:00:11\n",
      "     ----- ---------------------------------- 1.6/12.8 MB 1.1 MB/s eta 0:00:11\n",
      "     ----- ---------------------------------- 1.8/12.8 MB 1.1 MB/s eta 0:00:10\n",
      "     ----- ---------------------------------- 1.8/12.8 MB 1.1 MB/s eta 0:00:10\n",
      "     ----- ---------------------------------- 1.8/12.8 MB 1.1 MB/s eta 0:00:10\n",
      "     ----- ---------------------------------- 1.8/12.8 MB 1.1 MB/s eta 0:00:10\n",
      "     ----- ---------------------------------- 1.9/12.8 MB 1.1 MB/s eta 0:00:11\n",
      "     ------ --------------------------------- 2.0/12.8 MB 1.1 MB/s eta 0:00:10\n",
      "     ------ --------------------------------- 2.1/12.8 MB 1.1 MB/s eta 0:00:10\n",
      "     ------ --------------------------------- 2.2/12.8 MB 1.1 MB/s eta 0:00:10\n",
      "     ------- -------------------------------- 2.3/12.8 MB 1.2 MB/s eta 0:00:09\n",
      "     ------- -------------------------------- 2.5/12.8 MB 1.2 MB/s eta 0:00:09\n",
      "     ------- -------------------------------- 2.5/12.8 MB 1.2 MB/s eta 0:00:09\n",
      "     -------- ------------------------------- 2.7/12.8 MB 1.3 MB/s eta 0:00:08\n",
      "     -------- ------------------------------- 2.8/12.8 MB 1.3 MB/s eta 0:00:08\n",
      "     --------- ------------------------------ 3.0/12.8 MB 1.4 MB/s eta 0:00:08\n",
      "     --------- ------------------------------ 3.1/12.8 MB 1.4 MB/s eta 0:00:08\n",
      "     --------- ------------------------------ 3.2/12.8 MB 1.4 MB/s eta 0:00:07\n",
      "     ---------- ----------------------------- 3.3/12.8 MB 1.4 MB/s eta 0:00:07\n",
      "     ---------- ----------------------------- 3.4/12.8 MB 1.4 MB/s eta 0:00:07\n",
      "     ----------- ---------------------------- 3.5/12.8 MB 1.5 MB/s eta 0:00:07\n",
      "     ----------- ---------------------------- 3.6/12.8 MB 1.5 MB/s eta 0:00:07\n",
      "     ----------- ---------------------------- 3.8/12.8 MB 1.5 MB/s eta 0:00:07\n",
      "     ------------ --------------------------- 3.9/12.8 MB 1.5 MB/s eta 0:00:06\n",
      "     ------------ --------------------------- 4.0/12.8 MB 1.5 MB/s eta 0:00:06\n",
      "     ------------ --------------------------- 4.0/12.8 MB 1.5 MB/s eta 0:00:06\n",
      "     ------------ --------------------------- 4.1/12.8 MB 1.5 MB/s eta 0:00:06\n",
      "     ------------- -------------------------- 4.3/12.8 MB 1.6 MB/s eta 0:00:06\n",
      "     ------------- -------------------------- 4.4/12.8 MB 1.6 MB/s eta 0:00:06\n",
      "     -------------- ------------------------- 4.6/12.8 MB 1.6 MB/s eta 0:00:06\n",
      "     -------------- ------------------------- 4.7/12.8 MB 1.6 MB/s eta 0:00:06\n",
      "     -------------- ------------------------- 4.8/12.8 MB 1.6 MB/s eta 0:00:05\n",
      "     --------------- ------------------------ 4.9/12.8 MB 1.6 MB/s eta 0:00:05\n",
      "     --------------- ------------------------ 5.0/12.8 MB 1.6 MB/s eta 0:00:05\n",
      "     --------------- ------------------------ 5.1/12.8 MB 1.7 MB/s eta 0:00:05\n",
      "     ---------------- ----------------------- 5.2/12.8 MB 1.7 MB/s eta 0:00:05\n",
      "     ---------------- ----------------------- 5.3/12.8 MB 1.7 MB/s eta 0:00:05\n",
      "     ----------------- ---------------------- 5.5/12.8 MB 1.7 MB/s eta 0:00:05\n",
      "     ----------------- ---------------------- 5.6/12.8 MB 1.7 MB/s eta 0:00:05\n",
      "     ----------------- ---------------------- 5.7/12.8 MB 1.7 MB/s eta 0:00:05\n",
      "     ------------------ --------------------- 5.8/12.8 MB 1.7 MB/s eta 0:00:05\n",
      "     ------------------ --------------------- 5.9/12.8 MB 1.7 MB/s eta 0:00:04\n",
      "     ------------------ --------------------- 6.0/12.8 MB 1.7 MB/s eta 0:00:04\n",
      "     ------------------- -------------------- 6.1/12.8 MB 1.7 MB/s eta 0:00:04\n",
      "     ------------------- -------------------- 6.2/12.8 MB 1.8 MB/s eta 0:00:04\n",
      "     ------------------- -------------------- 6.4/12.8 MB 1.8 MB/s eta 0:00:04\n",
      "     -------------------- ------------------- 6.4/12.8 MB 1.8 MB/s eta 0:00:04\n",
      "     -------------------- ------------------- 6.6/12.8 MB 1.8 MB/s eta 0:00:04\n",
      "     -------------------- ------------------- 6.7/12.8 MB 1.8 MB/s eta 0:00:04\n",
      "     --------------------- ------------------ 6.8/12.8 MB 1.8 MB/s eta 0:00:04\n",
      "     --------------------- ------------------ 6.9/12.8 MB 1.8 MB/s eta 0:00:04\n",
      "     ---------------------- ----------------- 7.0/12.8 MB 1.8 MB/s eta 0:00:04\n",
      "     ---------------------- ----------------- 7.1/12.8 MB 1.8 MB/s eta 0:00:04\n",
      "     ---------------------- ----------------- 7.2/12.8 MB 1.8 MB/s eta 0:00:04\n",
      "     ---------------------- ----------------- 7.3/12.8 MB 1.8 MB/s eta 0:00:03\n",
      "     ----------------------- ---------------- 7.5/12.8 MB 1.8 MB/s eta 0:00:03\n",
      "     ----------------------- ---------------- 7.6/12.8 MB 1.8 MB/s eta 0:00:03\n",
      "     ----------------------- ---------------- 7.7/12.8 MB 1.8 MB/s eta 0:00:03\n",
      "     ------------------------ --------------- 7.7/12.8 MB 1.8 MB/s eta 0:00:03\n",
      "     ------------------------ --------------- 7.8/12.8 MB 1.8 MB/s eta 0:00:03\n",
      "     ------------------------ --------------- 7.9/12.8 MB 1.8 MB/s eta 0:00:03\n",
      "     ------------------------- -------------- 8.0/12.8 MB 1.8 MB/s eta 0:00:03\n",
      "     ------------------------- -------------- 8.1/12.8 MB 1.8 MB/s eta 0:00:03\n",
      "     ------------------------- -------------- 8.2/12.8 MB 1.8 MB/s eta 0:00:03\n",
      "     -------------------------- ------------- 8.3/12.8 MB 1.9 MB/s eta 0:00:03\n",
      "     -------------------------- ------------- 8.5/12.8 MB 1.9 MB/s eta 0:00:03\n",
      "     --------------------------- ------------ 8.7/12.8 MB 1.9 MB/s eta 0:00:03\n",
      "     --------------------------- ------------ 8.7/12.8 MB 1.9 MB/s eta 0:00:03\n",
      "     --------------------------- ------------ 8.9/12.8 MB 1.9 MB/s eta 0:00:03\n",
      "     --------------------------- ------------ 8.9/12.8 MB 1.9 MB/s eta 0:00:03\n",
      "     ---------------------------- ----------- 9.0/12.8 MB 1.9 MB/s eta 0:00:03\n",
      "     ---------------------------- ----------- 9.2/12.8 MB 1.9 MB/s eta 0:00:02\n",
      "     ----------------------------- ---------- 9.3/12.8 MB 1.9 MB/s eta 0:00:02\n",
      "     ----------------------------- ---------- 9.4/12.8 MB 1.9 MB/s eta 0:00:02\n",
      "     ----------------------------- ---------- 9.5/12.8 MB 1.9 MB/s eta 0:00:02\n",
      "     ------------------------------ --------- 9.6/12.8 MB 1.9 MB/s eta 0:00:02\n",
      "     ------------------------------ --------- 9.8/12.8 MB 1.9 MB/s eta 0:00:02\n",
      "     ------------------------------ --------- 9.9/12.8 MB 1.9 MB/s eta 0:00:02\n",
      "     ------------------------------- -------- 10.0/12.8 MB 1.9 MB/s eta 0:00:02\n",
      "     ------------------------------- -------- 10.1/12.8 MB 2.0 MB/s eta 0:00:02\n",
      "     ------------------------------- -------- 10.2/12.8 MB 1.9 MB/s eta 0:00:02\n",
      "     -------------------------------- ------- 10.3/12.8 MB 2.0 MB/s eta 0:00:02\n",
      "     -------------------------------- ------- 10.4/12.8 MB 2.0 MB/s eta 0:00:02\n",
      "     -------------------------------- ------- 10.5/12.8 MB 2.0 MB/s eta 0:00:02\n",
      "     --------------------------------- ------ 10.7/12.8 MB 2.1 MB/s eta 0:00:02\n",
      "     --------------------------------- ------ 10.8/12.8 MB 2.1 MB/s eta 0:00:01\n",
      "     ---------------------------------- ----- 10.9/12.8 MB 2.1 MB/s eta 0:00:01\n",
      "     ---------------------------------- ----- 11.0/12.8 MB 2.2 MB/s eta 0:00:01\n",
      "     ---------------------------------- ----- 11.1/12.8 MB 2.2 MB/s eta 0:00:01\n",
      "     ----------------------------------- ---- 11.2/12.8 MB 2.2 MB/s eta 0:00:01\n",
      "     ----------------------------------- ---- 11.3/12.8 MB 2.2 MB/s eta 0:00:01\n",
      "     ----------------------------------- ---- 11.4/12.8 MB 2.2 MB/s eta 0:00:01\n",
      "     ------------------------------------ --- 11.6/12.8 MB 2.2 MB/s eta 0:00:01\n",
      "     ------------------------------------ --- 11.7/12.8 MB 2.2 MB/s eta 0:00:01\n",
      "     ------------------------------------ --- 11.8/12.8 MB 2.3 MB/s eta 0:00:01\n",
      "     ------------------------------------- -- 11.9/12.8 MB 2.3 MB/s eta 0:00:01\n",
      "     ------------------------------------- -- 12.0/12.8 MB 2.3 MB/s eta 0:00:01\n",
      "     ------------------------------------- -- 12.1/12.8 MB 2.4 MB/s eta 0:00:01\n",
      "     -------------------------------------- - 12.2/12.8 MB 2.4 MB/s eta 0:00:01\n",
      "     -------------------------------------- - 12.3/12.8 MB 2.4 MB/s eta 0:00:01\n",
      "     -------------------------------------- - 12.4/12.8 MB 2.4 MB/s eta 0:00:01\n",
      "     ---------------------------------------  12.5/12.8 MB 2.4 MB/s eta 0:00:01\n",
      "     ---------------------------------------  12.7/12.8 MB 2.4 MB/s eta 0:00:01\n",
      "     ---------------------------------------  12.8/12.8 MB 2.4 MB/s eta 0:00:01\n",
      "     ---------------------------------------  12.8/12.8 MB 2.4 MB/s eta 0:00:01\n",
      "     ---------------------------------------- 12.8/12.8 MB 2.4 MB/s eta 0:00:00\n",
      "Installing collected packages: en-core-web-sm\n",
      "Successfully installed en-core-web-sm-3.8.0\n",
      "\u001b[38;5;2m[+] Download and installation successful\u001b[0m\n",
      "You can now load the package via spacy.load('en_core_web_sm')\n"
     ]
    }
   ],
   "source": [
    "!python -m spacy download en_core_web_sm"
   ]
  },
  {
   "cell_type": "code",
   "execution_count": 21,
   "id": "3f62c22f-ec3b-4dbf-9a7c-2af87e48d4f5",
   "metadata": {},
   "outputs": [
    {
     "name": "stdout",
     "output_type": "stream",
     "text": [
      "tesla PROPN nsubj\n",
      "is AUX aux\n",
      "looking VERB ROOT\n",
      "at ADP prep\n",
      "buying VERB pcomp\n",
      "U.S PROPN dobj\n",
      "startup VERB advcl\n",
      "for ADP prep\n",
      "6 NUM quantmod\n",
      "$ SYM compound\n",
      "million NUM pobj\n"
     ]
    }
   ],
   "source": [
    "nlp = spacy.load(\"en_core_web_sm\")\n",
    "doc = nlp (u'tesla is looking at buying U.S startup for 6$ million')\n",
    "for token in doc:\n",
    "    print (token.text, token.pos_, token.dep_)"
   ]
  },
  {
   "cell_type": "code",
   "execution_count": 22,
   "id": "995b000d-e59e-4be8-995f-3adf696d3012",
   "metadata": {},
   "outputs": [
    {
     "name": "stdout",
     "output_type": "stream",
     "text": [
      "tesla PROPN nsubj\n",
      "is AUX aux\n",
      "looking VERB ROOT\n",
      "at ADP prep\n",
      "buying VERB pcomp\n",
      "U.S PROPN dobj\n",
      "startup VERB advcl\n",
      "for ADP prep\n",
      "6 NUM quantmod\n",
      "$ SYM compound\n",
      "million NUM pobj\n"
     ]
    }
   ],
   "source": [
    "doc = nlp (u'tesla is looking at buying U.S startup for 6$ million')\n",
    "for token in doc:\n",
    "    print (token.text, token.pos_, token.dep_)"
   ]
  },
  {
   "cell_type": "code",
   "execution_count": 23,
   "id": "4a970ae3-491f-4483-9b4d-94ab5e65cafe",
   "metadata": {},
   "outputs": [
    {
     "data": {
      "text/plain": [
       "[('tok2vec', <spacy.pipeline.tok2vec.Tok2Vec at 0x123de3931d0>),\n",
       " ('tagger', <spacy.pipeline.tagger.Tagger at 0x123deb414f0>),\n",
       " ('parser', <spacy.pipeline.dep_parser.DependencyParser at 0x123deb6cac0>),\n",
       " ('attribute_ruler',\n",
       "  <spacy.pipeline.attributeruler.AttributeRuler at 0x123e0340650>),\n",
       " ('lemmatizer', <spacy.lang.en.lemmatizer.EnglishLemmatizer at 0x123e03415d0>),\n",
       " ('ner', <spacy.pipeline.ner.EntityRecognizer at 0x123deb6cd60>)]"
      ]
     },
     "execution_count": 23,
     "metadata": {},
     "output_type": "execute_result"
    }
   ],
   "source": [
    "nlp.pipeline"
   ]
  },
  {
   "cell_type": "code",
   "execution_count": 24,
   "id": "2c12a205-8f79-4001-9d86-692bbf7152ac",
   "metadata": {},
   "outputs": [
    {
     "data": {
      "text/plain": [
       "['tok2vec', 'tagger', 'parser', 'attribute_ruler', 'lemmatizer', 'ner']"
      ]
     },
     "execution_count": 24,
     "metadata": {},
     "output_type": "execute_result"
    }
   ],
   "source": [
    "nlp.pipe_names"
   ]
  },
  {
   "cell_type": "code",
   "execution_count": 25,
   "id": "4b0264ab-8606-48ca-8574-f70022acdc98",
   "metadata": {},
   "outputs": [
    {
     "name": "stdout",
     "output_type": "stream",
     "text": [
      "tesla NOUN nsubj\n",
      "is't X appos\n",
      "  SPACE dep\n",
      "looking VERB ROOT\n",
      "into ADP prep\n",
      "startup NOUN pobj\n",
      "anymore ADV advmod\n",
      ". PUNCT punct\n"
     ]
    }
   ],
   "source": [
    "doc2=nlp(u\"tesla is't  looking into startup anymore.\")\n",
    "\n",
    "for token in doc2:\n",
    "    print(token.text ,token.pos_,token.dep_)"
   ]
  },
  {
   "cell_type": "code",
   "execution_count": 26,
   "id": "33632504-ff2a-40f4-8939-1b0e6db7ffb1",
   "metadata": {},
   "outputs": [
    {
     "data": {
      "text/plain": [
       "'NOUN'"
      ]
     },
     "execution_count": 26,
     "metadata": {},
     "output_type": "execute_result"
    }
   ],
   "source": [
    "doc2[0].pos_"
   ]
  },
  {
   "cell_type": "code",
   "execution_count": 27,
   "id": "6b5a0967-a43d-46f7-badb-3a16ef680eed",
   "metadata": {},
   "outputs": [
    {
     "data": {
      "text/plain": [
       "'proper noun'"
      ]
     },
     "execution_count": 27,
     "metadata": {},
     "output_type": "execute_result"
    }
   ],
   "source": [
    "spacy.explain('PROPN')"
   ]
  },
  {
   "cell_type": "code",
   "execution_count": 28,
   "id": "b37203b8-a21d-470e-91fa-b13e1fb1bcd4",
   "metadata": {},
   "outputs": [
    {
     "data": {
      "text/plain": [
       "'nominal subject'"
      ]
     },
     "execution_count": 28,
     "metadata": {},
     "output_type": "execute_result"
    }
   ],
   "source": [
    "spacy.explain('nsubj')"
   ]
  },
  {
   "cell_type": "code",
   "execution_count": 29,
   "id": "970f9541-a62f-43aa-8063-de0ff3a3b3a9",
   "metadata": {},
   "outputs": [
    {
     "name": "stdout",
     "output_type": "stream",
     "text": [
      "into\n"
     ]
    }
   ],
   "source": [
    "print(doc2[4].text)"
   ]
  },
  {
   "cell_type": "code",
   "execution_count": 30,
   "id": "12ed82f1-2fd9-4d98-b7d3-2f4ff60e9c72",
   "metadata": {},
   "outputs": [
    {
     "name": "stdout",
     "output_type": "stream",
     "text": [
      "into\n"
     ]
    }
   ],
   "source": [
    "print (doc2[4].lemma_)"
   ]
  },
  {
   "cell_type": "code",
   "execution_count": 31,
   "id": "5b431878-39f9-48f9-aa5d-428c92b59a6e",
   "metadata": {},
   "outputs": [
    {
     "name": "stdout",
     "output_type": "stream",
     "text": [
      "ADP\n",
      "IN/conjunction, subordinating or preposition\n"
     ]
    }
   ],
   "source": [
    "print(doc2[4].pos_)\n",
    "print(doc2[4].tag_+'/'+spacy.explain(doc2[4].tag_))"
   ]
  },
  {
   "cell_type": "code",
   "execution_count": 37,
   "id": "f81af5d9-c67e-4230-a21c-6d8593af31f0",
   "metadata": {},
   "outputs": [],
   "source": [
    "# span \n",
    "#doc2[start:stop]"
   ]
  },
  {
   "cell_type": "code",
   "execution_count": 34,
   "id": "718768d4-e7d5-47c3-a9fa-da97c079a3fa",
   "metadata": {},
   "outputs": [],
   "source": [
    "doc3 = nlp(u'Although commonly attributed to john Lennon  from his song \"beautiful boy\",\\\n",
    "the phrase \"life is what happen to us while we are making other plans\" was written by\\\n",
    "cartoonist allen sunderss and published in reader\\'s digital in 1957 when lemon was 17,')"
   ]
  },
  {
   "cell_type": "code",
   "execution_count": 38,
   "id": "0084c9ae-25cf-4b43-bd8a-f98a37bada8d",
   "metadata": {},
   "outputs": [
    {
     "name": "stdout",
     "output_type": "stream",
     "text": [
      "is what happen to us while we are making other plans\" was written\n"
     ]
    }
   ],
   "source": [
    "life_quote = doc3[16:30]\n",
    "print(life_quote)"
   ]
  },
  {
   "cell_type": "code",
   "execution_count": 42,
   "id": "99c1cdfc-ad1a-4b00-8751-b72d55281346",
   "metadata": {},
   "outputs": [],
   "source": [
    "doc4= nlp(u'This is the first sentence. This is another sentence. This is the last sentence')"
   ]
  },
  {
   "cell_type": "code",
   "execution_count": 43,
   "id": "23f5a34f-6670-4344-b6be-deda5de6acb0",
   "metadata": {},
   "outputs": [
    {
     "name": "stdout",
     "output_type": "stream",
     "text": [
      "This is the first sentence.\n",
      "This is another sentence.\n",
      "This is the last sentence\n"
     ]
    }
   ],
   "source": [
    "for sent in doc4.sents:\n",
    "    print(sent)"
   ]
  }
 ],
 "metadata": {
  "kernelspec": {
   "display_name": "Python 3 (ipykernel)",
   "language": "python",
   "name": "python3"
  },
  "language_info": {
   "codemirror_mode": {
    "name": "ipython",
    "version": 3
   },
   "file_extension": ".py",
   "mimetype": "text/x-python",
   "name": "python",
   "nbconvert_exporter": "python",
   "pygments_lexer": "ipython3",
   "version": "3.11.7"
  }
 },
 "nbformat": 4,
 "nbformat_minor": 5
}
