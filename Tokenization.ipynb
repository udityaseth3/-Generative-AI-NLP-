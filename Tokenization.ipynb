{
 "cells": [
  {
   "cell_type": "code",
   "execution_count": null,
   "id": "c6d3a188-f857-4df4-9b65-d51d6cbb4abf",
   "metadata": {},
   "outputs": [],
   "source": [
    "import spacy\n",
    "nlp = spacy.load('en_core_web_sm')"
   ]
  },
  {
   "cell_type": "code",
   "execution_count": null,
   "id": "a1c3a0a0-029a-476a-9113-bd9b20f1281b",
   "metadata": {},
   "outputs": [],
   "source": [
    "mystring = '\"We\\'re moving to l.A.|\"'\n",
    "print(mystring)"
   ]
  },
  {
   "cell_type": "code",
   "execution_count": 6,
   "id": "6611ae5d-82c0-41e2-8061-f7389c43fe5f",
   "metadata": {},
   "outputs": [
    {
     "name": "stdout",
     "output_type": "stream",
     "text": [
      "\" | We | 're | moving | to | l. | A.| | \" | "
     ]
    }
   ],
   "source": [
    "doc = nlp(mystring) # create doc object and explore tokens\n",
    "\n",
    "for token in doc:\n",
    "    print(token.text, end=' | ')"
   ]
  },
  {
   "cell_type": "code",
   "execution_count": null,
   "id": "5cbc9014-b557-409b-8d96-8f57bed449fc",
   "metadata": {},
   "outputs": [],
   "source": [
    "#Noun Chunks"
   ]
  },
  {
   "cell_type": "code",
   "execution_count": null,
   "id": "1f06fb2d-a0e8-403d-a40d-2cae7b414a81",
   "metadata": {},
   "outputs": [],
   "source": [
    "doc9= nlp(u\"Autonomous cars shift insurance liability toward manufacturers.\")\n",
    "\n",
    "for chunk in doc9.noun_chunks:\n",
    "    print(chunk.text)"
   ]
  },
  {
   "cell_type": "code",
   "execution_count": null,
   "id": "07bccc5e-da61-4c4d-b1b9-1d72cdfc1ef9",
   "metadata": {},
   "outputs": [],
   "source": [
    "doc10 = nlp(u\"Read cars  do not carry higher insurence ratees.\")\n",
    "\n",
    "for chunk in doc10.noun_chunck:\n",
    "    print(chunk.text)"
   ]
  },
  {
   "cell_type": "code",
   "execution_count": null,
   "id": "48a9142c-0224-41d4-b949-c4fb06f94c1c",
   "metadata": {},
   "outputs": [],
   "source": [
    "doc11 = nlp(u\"He was a one-eyed, one-hundred, flying, purple people eater.\")\n",
    "\n",
    "for chunk in dic11.noun_chuncks:\n",
    "    print(chunck:text)"
   ]
  },
  {
   "cell_type": "code",
   "execution_count": null,
   "id": "7b3622f6-90a7-43a9-89ce-60cedc92f783",
   "metadata": {},
   "outputs": [],
   "source": [
    "# visualization dependency\n",
    "from spacy import displacy\n",
    "\n",
    "doc = nlp(u'Apple is going to build a U.K. factory for $16 million.')\n",
    "displcay.render(doc, style='dep', jupyter=True, options={'distance:110})"
   ]
  },
  {
   "cell_type": "code",
   "execution_count": null,
   "id": "5a4b312e-9132-43b2-8f6a-de24cbb307e2",
   "metadata": {},
   "outputs": [],
   "source": [
    "# visualizing  the entity recognizer\n",
    "doc = nlp(u'Over the last quarter Apple sold nearly 20 thousand ipods for a profit of $6 million.')\n",
    "print(spacy.render(doc, style='ent',jupyter=True)"
   ]
  },
  {
   "cell_type": "code",
   "execution_count": null,
   "id": "4a23d632-24f1-4737-8f1d-111da09e9f4d",
   "metadata": {},
   "outputs": [],
   "source": []
  }
 ],
 "metadata": {
  "kernelspec": {
   "display_name": "Python 3 (ipykernel)",
   "language": "python",
   "name": "python3"
  },
  "language_info": {
   "codemirror_mode": {
    "name": "ipython",
    "version": 3
   },
   "file_extension": ".py",
   "mimetype": "text/x-python",
   "name": "python",
   "nbconvert_exporter": "python",
   "pygments_lexer": "ipython3",
   "version": "3.11.7"
  }
 },
 "nbformat": 4,
 "nbformat_minor": 5
}
