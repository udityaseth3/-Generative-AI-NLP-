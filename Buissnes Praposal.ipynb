{
 "cells": [
  {
   "cell_type": "code",
   "execution_count": 18,
   "id": "69bd4dd2-452d-40e2-b83c-05f7d72081b7",
   "metadata": {},
   "outputs": [
    {
     "name": "stdout",
     "output_type": "stream",
     "text": [
      "NLP stands for Natural Language Processing.\n"
     ]
    }
   ],
   "source": [
    "#1. Print an f-string that displays NLP stands for Natural Language Processing using the variables provided.\n",
    "a=\" Natural Language Processing\"\n",
    "print(f'NLP stands for{a}.')\n"
   ]
  },
  {
   "cell_type": "code",
   "execution_count": 15,
   "id": "1bd7d3be-cbf2-4ea0-8556-7d82d11eca62",
   "metadata": {},
   "outputs": [],
   "source": [
    "#2. Create a file in the current working directory called contacts.txt by running the cell below."
   ]
  },
  {
   "cell_type": "code",
   "execution_count": 19,
   "id": "c4ad1a5e-03ff-47d8-afbe-0fa0e7079e52",
   "metadata": {},
   "outputs": [
    {
     "name": "stdout",
     "output_type": "stream",
     "text": [
      "Writing contacts.txt\n"
     ]
    }
   ],
   "source": [
    "%%writefile contacts.txt\n",
    "first part of the sentence.\n",
    "last part of the sentence"
   ]
  },
  {
   "cell_type": "code",
   "execution_count": null,
   "id": "ec0a8fde-b06f-4001-bdce-62ae53810730",
   "metadata": {},
   "outputs": [],
   "source": [
    "#3. Open the file and use .read() to save the contents of the file to a string called fields. Make sure the file is closed at the end."
   ]
  },
  {
   "cell_type": "code",
   "execution_count": 20,
   "id": "76ad3eb2-3163-4389-ab7e-e92caef7534f",
   "metadata": {},
   "outputs": [
    {
     "name": "stdout",
     "output_type": "stream",
     "text": [
      "first part of the sentence.\n",
      "last part of the sentence\n",
      "\n"
     ]
    }
   ],
   "source": [
    "with open (\"contacts.txt\",\"r\") as my_file:\n",
    "     fields = my_file.read()\n",
    "     print(fields)"
   ]
  },
  {
   "cell_type": "code",
   "execution_count": 21,
   "id": "1344ede7-8096-4312-8ee6-e0df362554a1",
   "metadata": {},
   "outputs": [],
   "source": [
    "#4. Use PyPDF2 to open the file Business_Proposal.pdf. Extract the text of page 2."
   ]
  },
  {
   "cell_type": "code",
   "execution_count": 35,
   "id": "b23ec775-2029-4d7e-b34c-c6c2c4dde2a1",
   "metadata": {},
   "outputs": [],
   "source": [
    "import PyPDF2"
   ]
  },
  {
   "cell_type": "code",
   "execution_count": 36,
   "id": "beded63a-5f14-49dc-9540-0b9fbb51f8b3",
   "metadata": {},
   "outputs": [],
   "source": [
    "a=open('Business_Proposal.pdf','rb')"
   ]
  },
  {
   "cell_type": "code",
   "execution_count": 37,
   "id": "4a3cf4cd-eca1-4058-80a0-afb94b405a7b",
   "metadata": {},
   "outputs": [],
   "source": [
    "pdf_reader=PyPDF2.PdfReader(a)"
   ]
  },
  {
   "cell_type": "code",
   "execution_count": 38,
   "id": "5b50fdc5-06b6-4590-8ac6-b13394f51a62",
   "metadata": {},
   "outputs": [],
   "source": [
    "page_two=pdf_reader.pages[1]"
   ]
  },
  {
   "cell_type": "code",
   "execution_count": 40,
   "id": "928c907d-71a3-4c96-97be-6b2624c61a82",
   "metadata": {},
   "outputs": [],
   "source": [
    "page_two_text = page_two.extract_text()"
   ]
  },
  {
   "cell_type": "code",
   "execution_count": 42,
   "id": "4adc76ea-710f-40df-891f-9ee67b4818a8",
   "metadata": {},
   "outputs": [
    {
     "data": {
      "text/plain": [
       "'AUTHORS:  \\nAmy Baker, Finance Chair, x345, abaker@ourcompany.com  \\nChris Donaldson, Accounting Dir., x621, cdonaldson@ourcompany.com  \\nErin Freeman, Sr. VP, x879, efreeman@ourcompany.com  '"
      ]
     },
     "execution_count": 42,
     "metadata": {},
     "output_type": "execute_result"
    }
   ],
   "source": [
    "page_two_text\n"
   ]
  },
  {
   "cell_type": "code",
   "execution_count": 43,
   "id": "77ed0abd-a51d-4faa-889c-d2827c73a287",
   "metadata": {},
   "outputs": [],
   "source": [
    "f.close()"
   ]
  },
  {
   "cell_type": "code",
   "execution_count": 44,
   "id": "46bbb0a0-f0b6-4f05-bfa5-72febe7b84a3",
   "metadata": {},
   "outputs": [],
   "source": [
    "#5. Open the file contacts.txt in append mode. Add the text of page 2 from above to contacts.txt."
   ]
  },
  {
   "cell_type": "code",
   "execution_count": 45,
   "id": "dd8138af-9b00-45be-abf4-e1f822daf7b9",
   "metadata": {},
   "outputs": [
    {
     "data": {
      "text/plain": [
       "'first part of the sentence.\\nlast part of the sentence\\nAUTHORS:  \\nAmy Baker, Finance Chair, x345, abaker@ourcompany.com  \\nChris Donaldson, Accounting Dir., x621, cdonaldson@ourcompany.com  \\nErin Freeman, Sr. VP, x879, efreeman@ourcompany.com  '"
      ]
     },
     "execution_count": 45,
     "metadata": {},
     "output_type": "execute_result"
    }
   ],
   "source": [
    "my_file = open('contacts.txt','a+')\n",
    "my_file.write(page_two_text)\n",
    "my_file.seek(0)\n",
    "my_file.read()"
   ]
  },
  {
   "cell_type": "code",
   "execution_count": 46,
   "id": "0ffd9cdf-8fd0-4fca-bcec-89e06de7b2a6",
   "metadata": {},
   "outputs": [],
   "source": [
    "#6. Using the page_two_text variable created above, extract any email addresses that were contained in the file Business_Proposal.pdf."
   ]
  },
  {
   "cell_type": "code",
   "execution_count": 47,
   "id": "fac6d708-5f6d-4ffb-96e1-dd0599e632d9",
   "metadata": {},
   "outputs": [],
   "source": [
    "import re"
   ]
  },
  {
   "cell_type": "code",
   "execution_count": 48,
   "id": "f47028a7-e6f6-4d30-af6d-231a63a7b446",
   "metadata": {},
   "outputs": [
    {
     "data": {
      "text/plain": [
       "<re.Match object; span=(43, 64), match='abaker@ourcompany.com'>"
      ]
     },
     "execution_count": 48,
     "metadata": {},
     "output_type": "execute_result"
    }
   ],
   "source": [
    "pattern = r'\\w+@\\w+.\\w{3}'\n",
    "re.search(pattern , page_two_text)"
   ]
  }
 ],
 "metadata": {
  "kernelspec": {
   "display_name": "Python 3 (ipykernel)",
   "language": "python",
   "name": "python3"
  },
  "language_info": {
   "codemirror_mode": {
    "name": "ipython",
    "version": 3
   },
   "file_extension": ".py",
   "mimetype": "text/x-python",
   "name": "python",
   "nbconvert_exporter": "python",
   "pygments_lexer": "ipython3",
   "version": "3.11.7"
  }
 },
 "nbformat": 4,
 "nbformat_minor": 5
}
