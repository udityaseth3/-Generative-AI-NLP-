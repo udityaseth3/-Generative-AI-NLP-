{
 "cells": [
  {
   "cell_type": "code",
   "execution_count": 1,
   "id": "c04ed0a8-6ce7-4456-8f62-7cad9987a40b",
   "metadata": {},
   "outputs": [],
   "source": [
    "# IMPORTING THE LIBRARIES AND DATASET"
   ]
  },
  {
   "cell_type": "code",
   "execution_count": 4,
   "id": "a48e0a0e-de75-4147-9a2a-4152344bb1b8",
   "metadata": {},
   "outputs": [],
   "source": [
    "import spacy\n",
    "from spacy.lang.en.stop_words import STOP_WORDS\n",
    "from string import punctuation"
   ]
  },
  {
   "cell_type": "code",
   "execution_count": 5,
   "id": "3fc5689c-28d6-4bd6-b723-160ce017a519",
   "metadata": {},
   "outputs": [],
   "source": [
    "nlp=spacy.load('en_core_web_sm')"
   ]
  },
  {
   "cell_type": "code",
   "execution_count": 6,
   "id": "2e108139-5cd2-409c-8a3e-743a907d9c45",
   "metadata": {},
   "outputs": [],
   "source": [
    "text = \"\"\" Maria Sharapova has basically no friends as tennis players on the WTA Tour. The Russian player has no problems in openly speaking about it and in a recent interview she said: ‘I don’t really hide any feelings too much.\n",
    "I think everyone knows this is my job here. When I’m on the courts or when I’m on the court playing, I’m a competitor and I want to beat every single person whether they’re in the locker room or across the net.\n",
    "So I’m not the one to strike up a conversation about the weather and know that in the next few minutes I have to go and try to win a tennis match.I’m a pretty competitive girl. I say my hellos, but I’m not sending any players flowers as well. Uhm, I’m not really friendly or close to many players.\n",
    "I have not a lot of friends away from the courts.’ When she said she is not really close to a lot of players, is that something strategic that she is doing? Is it different on the men’s tour than the women’s tour? ‘No, not at all.\n",
    "I think just because you’re in the same sport doesn’t mean that you have to be friends with everyone just because you’re categorized, you’re a tennis player, so you’re going to get along with tennis players.\n",
    "I think every person has different interests. I have friends that have completely different jobs and interests, and I’ve met them in very different parts of my life.\n",
    "I think everyone just thinks because we’re tennis players we should be the greatest of friends. But ultimately tennis is just a very small part of what we do.\n",
    "There are so many other things that we’re interested in, that we do. \"\"\""
   ]
  },
  {
   "cell_type": "code",
   "execution_count": 7,
   "id": "efbd1ccb-696a-4bc3-a8e6-e4819d8a6a73",
   "metadata": {},
   "outputs": [],
   "source": [
    "stopwords =list(STOP_WORDS)"
   ]
  },
  {
   "cell_type": "code",
   "execution_count": 8,
   "id": "fa13f1ff-b6d5-4380-99a3-a33f625724f6",
   "metadata": {},
   "outputs": [],
   "source": [
    "doc=nlp(text)#applied tokenization"
   ]
  },
  {
   "cell_type": "code",
   "execution_count": 9,
   "id": "8608121f-63db-4098-ab30-d1ecb524cfdc",
   "metadata": {},
   "outputs": [
    {
     "name": "stdout",
     "output_type": "stream",
     "text": [
      "[' ', 'Maria', 'Sharapova', 'has', 'basically', 'no', 'friends', 'as', 'tennis', 'players', 'on', 'the', 'WTA', 'Tour', '.', 'The', 'Russian', 'player', 'has', 'no', 'problems', 'in', 'openly', 'speaking', 'about', 'it', 'and', 'in', 'a', 'recent', 'interview', 'she', 'said', ':', '‘', 'I', 'do', 'n’t', 'really', 'hide', 'any', 'feelings', 'too', 'much', '.', '\\n', 'I', 'think', 'everyone', 'knows', 'this', 'is', 'my', 'job', 'here', '.', 'When', 'I', '’m', 'on', 'the', 'courts', 'or', 'when', 'I', '’m', 'on', 'the', 'court', 'playing', ',', 'I', '’m', 'a', 'competitor', 'and', 'I', 'want', 'to', 'beat', 'every', 'single', 'person', 'whether', 'they', '’re', 'in', 'the', 'locker', 'room', 'or', 'across', 'the', 'net', '.', '\\n', 'So', 'I', '’m', 'not', 'the', 'one', 'to', 'strike', 'up', 'a', 'conversation', 'about', 'the', 'weather', 'and', 'know', 'that', 'in', 'the', 'next', 'few', 'minutes', 'I', 'have', 'to', 'go', 'and', 'try', 'to', 'win', 'a', 'tennis', 'match', '.', 'I’m', 'a', 'pretty', 'competitive', 'girl', '.', 'I', 'say', 'my', 'hellos', ',', 'but', 'I', '’m', 'not', 'sending', 'any', 'players', 'flowers', 'as', 'well', '.', 'Uhm', ',', 'I', '’m', 'not', 'really', 'friendly', 'or', 'close', 'to', 'many', 'players', '.', '\\n', 'I', 'have', 'not', 'a', 'lot', 'of', 'friends', 'away', 'from', 'the', 'courts', '.', '’', 'When', 'she', 'said', 'she', 'is', 'not', 'really', 'close', 'to', 'a', 'lot', 'of', 'players', ',', 'is', 'that', 'something', 'strategic', 'that', 'she', 'is', 'doing', '?', 'Is', 'it', 'different', 'on', 'the', 'men', '’s', 'tour', 'than', 'the', 'women', '’s', 'tour', '?', '‘', 'No', ',', 'not', 'at', 'all', '.', '\\n', 'I', 'think', 'just', 'because', 'you', '’re', 'in', 'the', 'same', 'sport', 'does', 'n’t', 'mean', 'that', 'you', 'have', 'to', 'be', 'friends', 'with', 'everyone', 'just', 'because', 'you', '’re', 'categorized', ',', 'you', '’re', 'a', 'tennis', 'player', ',', 'so', 'you', '’re', 'going', 'to', 'get', 'along', 'with', 'tennis', 'players', '.', '\\n', 'I', 'think', 'every', 'person', 'has', 'different', 'interests', '.', 'I', 'have', 'friends', 'that', 'have', 'completely', 'different', 'jobs', 'and', 'interests', ',', 'and', 'I', '’ve', 'met', 'them', 'in', 'very', 'different', 'parts', 'of', 'my', 'life', '.', '\\n', 'I', 'think', 'everyone', 'just', 'thinks', 'because', 'we', '’re', 'tennis', 'players', 'we', 'should', 'be', 'the', 'greatest', 'of', 'friends', '.', 'But', 'ultimately', 'tennis', 'is', 'just', 'a', 'very', 'small', 'part', 'of', 'what', 'we', 'do', '.', '\\n', 'There', 'are', 'so', 'many', 'other', 'things', 'that', 'we', '’re', 'interested', 'in', ',', 'that', 'we', 'do', '.']\n"
     ]
    }
   ],
   "source": [
    "tokens=[token.text for token in doc]\n",
    "print(tokens)"
   ]
  },
  {
   "cell_type": "code",
   "execution_count": 10,
   "id": "8cf392b4-739b-495c-ba3b-e00414bea3d2",
   "metadata": {},
   "outputs": [],
   "source": [
    "#as you can see in above output,the punctuation and stop words are also the part of tokens"
   ]
  },
  {
   "cell_type": "code",
   "execution_count": 11,
   "id": "d5830576-b810-4b25-a8a0-5ef223e3af2b",
   "metadata": {},
   "outputs": [
    {
     "data": {
      "text/plain": [
       "'!\"#$%&\\'()*+,-./:;<=>?@[\\\\]^_`{|}~'"
      ]
     },
     "execution_count": 11,
     "metadata": {},
     "output_type": "execute_result"
    }
   ],
   "source": [
    "punctuation\n",
    "#list of punctuations"
   ]
  },
  {
   "cell_type": "code",
   "execution_count": 12,
   "id": "3d3655af-4fe3-44d4-bd3a-58f834a2147a",
   "metadata": {},
   "outputs": [],
   "source": [
    "#ADD NEW LINE(/N) TO PUNCTIUATION\n",
    "punctuation = punctuation + '/n'"
   ]
  },
  {
   "cell_type": "code",
   "execution_count": 13,
   "id": "daa1c56e-8446-4d69-815f-3d22017299cf",
   "metadata": {},
   "outputs": [
    {
     "data": {
      "text/plain": [
       "'!\"#$%&\\'()*+,-./:;<=>?@[\\\\]^_`{|}~/n'"
      ]
     },
     "execution_count": 13,
     "metadata": {},
     "output_type": "execute_result"
    }
   ],
   "source": [
    "punctuation"
   ]
  },
  {
   "cell_type": "code",
   "execution_count": 14,
   "id": "ca5fed89-b7ed-4205-897f-0c827a624886",
   "metadata": {},
   "outputs": [],
   "source": [
    "#second step\n",
    "#text cleaning"
   ]
  },
  {
   "cell_type": "code",
   "execution_count": 15,
   "id": "8b01519b-5e39-4994-a545-5fae39554cbc",
   "metadata": {},
   "outputs": [],
   "source": [
    "word_frequencies ={}"
   ]
  },
  {
   "cell_type": "code",
   "execution_count": 16,
   "id": "17c33dbe-35cf-49a2-b95b-f635b512b2d8",
   "metadata": {},
   "outputs": [],
   "source": [
    "for word in doc:\n",
    "   if word.text.lower() not in stopwords:\n",
    "       if word.text.lower() not in punctuation:\n",
    "           if word.text not in word_frequencies.keys():\n",
    "               word_frequencies[word.text] = 1\n",
    "           else:\n",
    "               word_frequencies[word.text] +=1"
   ]
  },
  {
   "cell_type": "code",
   "execution_count": 17,
   "id": "e667cda3-41dd-43da-9132-7691687ea29c",
   "metadata": {},
   "outputs": [],
   "source": [
    "#if any key is being introduced being first time the word of that occurence  is onw\n",
    "#when a wod is being introduced second times,thirdtimes,so on..\n",
    "#it will be incremented by 1"
   ]
  },
  {
   "cell_type": "code",
   "execution_count": 18,
   "id": "e3032b65-4983-4411-922d-d0eb52af357b",
   "metadata": {},
   "outputs": [
    {
     "name": "stdout",
     "output_type": "stream",
     "text": [
      "{' ': 1, 'Maria': 1, 'Sharapova': 1, 'basically': 1, 'friends': 5, 'tennis': 6, 'players': 6, 'WTA': 1, 'Tour': 1, 'Russian': 1, 'player': 2, 'problems': 1, 'openly': 1, 'speaking': 1, 'recent': 1, 'interview': 1, 'said': 2, '‘': 2, 'hide': 1, 'feelings': 1, '\\n': 7, 'think': 4, 'knows': 1, 'job': 1, 'courts': 2, 'court': 1, 'playing': 1, 'competitor': 1, 'want': 1, 'beat': 1, 'single': 1, 'person': 2, 'locker': 1, 'room': 1, 'net': 1, 'strike': 1, 'conversation': 1, 'weather': 1, 'know': 1, 'minutes': 1, 'try': 1, 'win': 1, 'match': 1, 'I’m': 1, 'pretty': 1, 'competitive': 1, 'girl': 1, 'hellos': 1, 'sending': 1, 'flowers': 1, 'Uhm': 1, 'friendly': 1, 'close': 2, 'lot': 2, 'away': 1, '’': 1, 'strategic': 1, 'different': 4, 'men': 1, 'tour': 2, 'women': 1, 'sport': 1, 'mean': 1, 'categorized': 1, 'going': 1, 'interests': 2, 'completely': 1, 'jobs': 1, 'met': 1, 'parts': 1, 'life': 1, 'thinks': 1, 'greatest': 1, 'ultimately': 1, 'small': 1, 'things': 1, 'interested': 1}\n"
     ]
    }
   ],
   "source": [
    "print(word_frequencies)"
   ]
  },
  {
   "cell_type": "code",
   "execution_count": 19,
   "id": "07d2651e-d402-44ee-a203-fc3c4229444d",
   "metadata": {},
   "outputs": [],
   "source": [
    "max_frequency = max(word_frequencies.values())"
   ]
  },
  {
   "cell_type": "code",
   "execution_count": 20,
   "id": "e678ba5e-3d1b-4d2f-b169-af5cdc516970",
   "metadata": {},
   "outputs": [
    {
     "data": {
      "text/plain": [
       "7"
      ]
     },
     "execution_count": 20,
     "metadata": {},
     "output_type": "execute_result"
    }
   ],
   "source": [
    "max_frequency"
   ]
  },
  {
   "cell_type": "code",
   "execution_count": 21,
   "id": "5e3e0297-7cf9-4988-9be8-c049ed2cad48",
   "metadata": {},
   "outputs": [],
   "source": [
    "#we are going to divide each of the value by 6 (max_frequency)\n",
    "#so the normalizes frequency can be achieved"
   ]
  },
  {
   "cell_type": "code",
   "execution_count": 22,
   "id": "4b96f049-58a7-40c0-9001-1c7dd5f38773",
   "metadata": {},
   "outputs": [],
   "source": [
    "for word in word_frequencies.keys():\n",
    "    word_frequencies[word] = word_frequencies[word] / max_frequency\n",
    "    "
   ]
  },
  {
   "cell_type": "code",
   "execution_count": 23,
   "id": "b549bc01-7ac7-457d-a130-59bb7f72adfe",
   "metadata": {},
   "outputs": [
    {
     "name": "stdout",
     "output_type": "stream",
     "text": [
      "{' ': 0.14285714285714285, 'Maria': 0.14285714285714285, 'Sharapova': 0.14285714285714285, 'basically': 0.14285714285714285, 'friends': 0.7142857142857143, 'tennis': 0.8571428571428571, 'players': 0.8571428571428571, 'WTA': 0.14285714285714285, 'Tour': 0.14285714285714285, 'Russian': 0.14285714285714285, 'player': 0.2857142857142857, 'problems': 0.14285714285714285, 'openly': 0.14285714285714285, 'speaking': 0.14285714285714285, 'recent': 0.14285714285714285, 'interview': 0.14285714285714285, 'said': 0.2857142857142857, '‘': 0.2857142857142857, 'hide': 0.14285714285714285, 'feelings': 0.14285714285714285, '\\n': 1.0, 'think': 0.5714285714285714, 'knows': 0.14285714285714285, 'job': 0.14285714285714285, 'courts': 0.2857142857142857, 'court': 0.14285714285714285, 'playing': 0.14285714285714285, 'competitor': 0.14285714285714285, 'want': 0.14285714285714285, 'beat': 0.14285714285714285, 'single': 0.14285714285714285, 'person': 0.2857142857142857, 'locker': 0.14285714285714285, 'room': 0.14285714285714285, 'net': 0.14285714285714285, 'strike': 0.14285714285714285, 'conversation': 0.14285714285714285, 'weather': 0.14285714285714285, 'know': 0.14285714285714285, 'minutes': 0.14285714285714285, 'try': 0.14285714285714285, 'win': 0.14285714285714285, 'match': 0.14285714285714285, 'I’m': 0.14285714285714285, 'pretty': 0.14285714285714285, 'competitive': 0.14285714285714285, 'girl': 0.14285714285714285, 'hellos': 0.14285714285714285, 'sending': 0.14285714285714285, 'flowers': 0.14285714285714285, 'Uhm': 0.14285714285714285, 'friendly': 0.14285714285714285, 'close': 0.2857142857142857, 'lot': 0.2857142857142857, 'away': 0.14285714285714285, '’': 0.14285714285714285, 'strategic': 0.14285714285714285, 'different': 0.5714285714285714, 'men': 0.14285714285714285, 'tour': 0.2857142857142857, 'women': 0.14285714285714285, 'sport': 0.14285714285714285, 'mean': 0.14285714285714285, 'categorized': 0.14285714285714285, 'going': 0.14285714285714285, 'interests': 0.2857142857142857, 'completely': 0.14285714285714285, 'jobs': 0.14285714285714285, 'met': 0.14285714285714285, 'parts': 0.14285714285714285, 'life': 0.14285714285714285, 'thinks': 0.14285714285714285, 'greatest': 0.14285714285714285, 'ultimately': 0.14285714285714285, 'small': 0.14285714285714285, 'things': 0.14285714285714285, 'interested': 0.14285714285714285}\n"
     ]
    }
   ],
   "source": [
    "print(word_frequencies)\n",
    "#all the word frequencies  are normalized"
   ]
  },
  {
   "cell_type": "code",
   "execution_count": 24,
   "id": "3be0c67e-546d-4ff0-af93-067c2891f1fb",
   "metadata": {},
   "outputs": [],
   "source": [
    "#step three\n",
    "#sentence tokenization"
   ]
  },
  {
   "cell_type": "code",
   "execution_count": 25,
   "id": "212512f7-44f1-421b-9678-8cf1dcacef6d",
   "metadata": {},
   "outputs": [
    {
     "name": "stdout",
     "output_type": "stream",
     "text": [
      "[ Maria Sharapova has basically no friends as tennis players on the WTA Tour., The Russian player has no problems in openly speaking about it and in a recent interview she said: ‘I don’t really hide any feelings too much.\n",
      ", I think everyone knows this is my job here., When I’m on the courts or when I’m on the court playing, I’m a competitor, and I want to beat every single person whether they’re in the locker room or across the net.\n",
      ", So I’m not the one to strike up a conversation about the weather and know that in the next few minutes I have to go and try to win a tennis match., I’m a pretty competitive girl., I say my hellos, but I’m not sending any players flowers as well., Uhm, I’m not really friendly or close to many players.\n",
      ", I have not a lot of friends away from the courts.’, When she said she is not really close to a lot of players, is that something strategic that she is doing?, Is it different on the men’s tour than the women’s tour?, ‘No, not at all.\n",
      ", I think just because you’re in the same sport doesn’t mean that you have to be friends with everyone just because you’re categorized, you’re a tennis player, so you’re going to get along with tennis players.\n",
      ", I think every person has different interests., I have friends that have completely different jobs and interests, and I’ve met them in very different parts of my life.\n",
      ", I think everyone just thinks because we’re tennis players we should be the greatest of friends., But ultimately tennis is just a very small part of what we do.\n",
      ", There are so many other things that we’re interested in, that we do.]\n"
     ]
    }
   ],
   "source": [
    "sentence_tokens=[sent for sent in doc.sents]\n",
    "print(sentence_tokens)"
   ]
  },
  {
   "cell_type": "code",
   "execution_count": 26,
   "id": "2a6457c3-cc16-4e1e-a8b1-ffe8fcb5a301",
   "metadata": {},
   "outputs": [],
   "source": [
    "#calculate sentence score"
   ]
  },
  {
   "cell_type": "code",
   "execution_count": 27,
   "id": "0924c008-6ac9-429f-bb18-f794788993b5",
   "metadata": {},
   "outputs": [],
   "source": [
    "sentence_score={}\n",
    "for sent in sentence_tokens:\n",
    "    for word in sent:\n",
    "        if word.text.lower() in word_frequencies.keys(): # if word_frequencies.keys() present there\n",
    "            if sent not in sentence_score.keys():# we will add normalized freq counts in each sentence\n",
    "                sentence_score[sent] = word_frequencies[word.text.lower()]\n",
    "            else:\n",
    "                sentence_score[sent]+=word_frequencies[word.text.lower()]"
   ]
  },
  {
   "cell_type": "code",
   "execution_count": 28,
   "id": "6ea56232-b825-49a7-afab-c485ba632eb9",
   "metadata": {},
   "outputs": [
    {
     "name": "stdout",
     "output_type": "stream",
     "text": [
      "{ Maria Sharapova has basically no friends as tennis players on the WTA Tour.: 3.0, The Russian player has no problems in openly speaking about it and in a recent interview she said: ‘I don’t really hide any feelings too much.\n",
      ": 2.8571428571428568, I think everyone knows this is my job here.: 0.857142857142857, When I’m on the courts or when I’m on the court playing, I’m a competitor: 0.7142857142857142, and I want to beat every single person whether they’re in the locker room or across the net.\n",
      ": 2.1428571428571423, So I’m not the one to strike up a conversation about the weather and know that in the next few minutes I have to go and try to win a tennis match.: 1.9999999999999996, I’m a pretty competitive girl.: 0.42857142857142855, I say my hellos, but I’m not sending any players flowers as well.: 1.2857142857142856, Uhm, I’m not really friendly or close to many players.\n",
      ": 2.2857142857142856, I have not a lot of friends away from the courts.’: 1.5714285714285712, When she said she is not really close to a lot of players, is that something strategic that she is doing?: 1.857142857142857, Is it different on the men’s tour than the women’s tour?: 1.4285714285714284, ‘No, not at all.\n",
      ": 1.2857142857142856, I think just because you’re in the same sport doesn’t mean that you have to be friends with everyone just because you’re categorized, you’re a tennis player, so you’re going to get along with tennis players.\n",
      ": 5.7142857142857135, I think every person has different interests.: 1.714285714285714, I have friends that have completely different jobs and interests, and I’ve met them in very different parts of my life.\n",
      ": 3.8571428571428568, I think everyone just thinks because we’re tennis players we should be the greatest of friends.: 3.2857142857142856, But ultimately tennis is just a very small part of what we do.\n",
      ": 2.142857142857143, There are so many other things that we’re interested in, that we do.: 0.2857142857142857}\n"
     ]
    }
   ],
   "source": [
    "print(sentence_score)"
   ]
  },
  {
   "cell_type": "code",
   "execution_count": 29,
   "id": "3e1c6ad7-1550-422d-87ff-0ef88515050a",
   "metadata": {},
   "outputs": [],
   "source": [
    "#step 3\n",
    "#select 30% sentences with maximum score"
   ]
  },
  {
   "cell_type": "code",
   "execution_count": 30,
   "id": "3c48906b-e6e9-4cde-bc40-fecc386bc966",
   "metadata": {},
   "outputs": [],
   "source": [
    "from heapq import nlargest"
   ]
  },
  {
   "cell_type": "code",
   "execution_count": 31,
   "id": "bd52e72c-a165-4806-96bc-6d4824e1ec13",
   "metadata": {},
   "outputs": [],
   "source": [
    "select_length = int(len(sentence_tokens)) *0.3"
   ]
  },
  {
   "cell_type": "code",
   "execution_count": 32,
   "id": "7875e064-7d7b-41b3-85d8-e39145406d12",
   "metadata": {},
   "outputs": [
    {
     "name": "stdout",
     "output_type": "stream",
     "text": [
      "5.7\n"
     ]
    }
   ],
   "source": [
    "print(select_length)"
   ]
  },
  {
   "cell_type": "code",
   "execution_count": 33,
   "id": "6401694f-3200-4e3b-a8f8-6560b1bba16c",
   "metadata": {},
   "outputs": [],
   "source": [
    "#step4\n",
    "#getting the summary"
   ]
  },
  {
   "cell_type": "code",
   "execution_count": 34,
   "id": "7bbe6081-d7ad-48bc-a212-c3ec81526460",
   "metadata": {},
   "outputs": [],
   "source": [
    "summary = nlargest(n=int(select_length),iterable=sentence_score,key = sentence_score.get)"
   ]
  },
  {
   "cell_type": "code",
   "execution_count": 36,
   "id": "af4652bd-1df0-4ebb-abb1-ee0948e7eeb7",
   "metadata": {},
   "outputs": [
    {
     "name": "stdout",
     "output_type": "stream",
     "text": [
      "[I think just because you’re in the same sport doesn’t mean that you have to be friends with everyone just because you’re categorized, you’re a tennis player, so you’re going to get along with tennis players.\n",
      ", I have friends that have completely different jobs and interests, and I’ve met them in very different parts of my life.\n",
      ", I think everyone just thinks because we’re tennis players we should be the greatest of friends.,  Maria Sharapova has basically no friends as tennis players on the WTA Tour., The Russian player has no problems in openly speaking about it and in a recent interview she said: ‘I don’t really hide any feelings too much.\n",
      "]\n"
     ]
    }
   ],
   "source": [
    "print(summary)\n",
    "#these 8 sentences represents summary of text"
   ]
  },
  {
   "cell_type": "code",
   "execution_count": 37,
   "id": "02efaffa-7f5d-4c9c-bb7e-027e736902d8",
   "metadata": {},
   "outputs": [],
   "source": [
    "#combine these sentences together"
   ]
  },
  {
   "cell_type": "code",
   "execution_count": 38,
   "id": "a50c42fe-9497-44d9-aada-fa769a7b0f67",
   "metadata": {},
   "outputs": [],
   "source": [
    "final_summary=[word.text for word in summary]"
   ]
  },
  {
   "cell_type": "code",
   "execution_count": 39,
   "id": "312fdea7-431d-4b94-992e-79bcf3b5588d",
   "metadata": {},
   "outputs": [
    {
     "data": {
      "text/plain": [
       "['I think just because you’re in the same sport doesn’t mean that you have to be friends with everyone just because you’re categorized, you’re a tennis player, so you’re going to get along with tennis players.\\n',\n",
       " 'I have friends that have completely different jobs and interests, and I’ve met them in very different parts of my life.\\n',\n",
       " 'I think everyone just thinks because we’re tennis players we should be the greatest of friends.',\n",
       " ' Maria Sharapova has basically no friends as tennis players on the WTA Tour.',\n",
       " 'The Russian player has no problems in openly speaking about it and in a recent interview she said: ‘I don’t really hide any feelings too much.\\n']"
      ]
     },
     "execution_count": 39,
     "metadata": {},
     "output_type": "execute_result"
    }
   ],
   "source": [
    "final_summary"
   ]
  },
  {
   "cell_type": "code",
   "execution_count": 40,
   "id": "ef18f129-4205-4786-bd10-e63e24408372",
   "metadata": {},
   "outputs": [],
   "source": [
    "summary=' '.join(final_summary)"
   ]
  },
  {
   "cell_type": "code",
   "execution_count": 41,
   "id": "afc91d05-9bea-4ca5-9353-e63cb722b8b9",
   "metadata": {},
   "outputs": [
    {
     "name": "stdout",
     "output_type": "stream",
     "text": [
      "I think just because you’re in the same sport doesn’t mean that you have to be friends with everyone just because you’re categorized, you’re a tennis player, so you’re going to get along with tennis players.\n",
      " I have friends that have completely different jobs and interests, and I’ve met them in very different parts of my life.\n",
      " I think everyone just thinks because we’re tennis players we should be the greatest of friends.  Maria Sharapova has basically no friends as tennis players on the WTA Tour. The Russian player has no problems in openly speaking about it and in a recent interview she said: ‘I don’t really hide any feelings too much.\n",
      "\n"
     ]
    }
   ],
   "source": [
    "print(summary)"
   ]
  },
  {
   "cell_type": "code",
   "execution_count": 42,
   "id": "9d015323-8354-498b-af16-586cf45c5e82",
   "metadata": {},
   "outputs": [],
   "source": [
    "#compare length of original text and summary"
   ]
  },
  {
   "cell_type": "code",
   "execution_count": 43,
   "id": "ac84e123-a9d4-4f68-909c-df3faf3244ad",
   "metadata": {},
   "outputs": [
    {
     "data": {
      "text/plain": [
       "1562"
      ]
     },
     "execution_count": 43,
     "metadata": {},
     "output_type": "execute_result"
    }
   ],
   "source": [
    "len(text) #length of original text"
   ]
  },
  {
   "cell_type": "code",
   "execution_count": 44,
   "id": "8f5f281a-e6f1-44a0-b896-4af169c08790",
   "metadata": {},
   "outputs": [
    {
     "data": {
      "text/plain": [
       "646"
      ]
     },
     "execution_count": 44,
     "metadata": {},
     "output_type": "execute_result"
    }
   ],
   "source": [
    "len(summary)"
   ]
  },
  {
   "cell_type": "code",
   "execution_count": null,
   "id": "41f3f2aa-3317-4df1-8df2-9161dbaae16a",
   "metadata": {},
   "outputs": [],
   "source": []
  }
 ],
 "metadata": {
  "kernelspec": {
   "display_name": "Python 3 (ipykernel)",
   "language": "python",
   "name": "python3"
  },
  "language_info": {
   "codemirror_mode": {
    "name": "ipython",
    "version": 3
   },
   "file_extension": ".py",
   "mimetype": "text/x-python",
   "name": "python",
   "nbconvert_exporter": "python",
   "pygments_lexer": "ipython3",
   "version": "3.12.8"
  }
 },
 "nbformat": 4,
 "nbformat_minor": 5
}
